{
 "cells": [
  {
   "cell_type": "markdown",
   "metadata": {},
   "source": [
    "## PyTorch Workflow\n",
    "\n",
    "Pytorch end-to-end workflow.\n",
    "1. Prepare and load data\n",
    "2. Build model\n",
    "3. Fitting the model to data (training)\n",
    "4. Saving and loading model"
   ]
  },
  {
   "cell_type": "markdown",
   "metadata": {},
   "source": [
    "### 1. Prepare and load data"
   ]
  },
  {
   "cell_type": "code",
   "execution_count": 93,
   "metadata": {},
   "outputs": [
    {
     "data": {
      "text/plain": [
       "'2.4.0+cu121'"
      ]
     },
     "execution_count": 93,
     "metadata": {},
     "output_type": "execute_result"
    }
   ],
   "source": [
    "# import necessary libraries\n",
    "import torch\n",
    "from torch import nn # nn contains all the building blocks for model in pytorch\n",
    "import matplotlib.pyplot as plt\n",
    "\n",
    "# check pytorch version\n",
    "torch.__version__"
   ]
  },
  {
   "cell_type": "markdown",
   "metadata": {},
   "source": [
    "#### Set agnostic device"
   ]
  },
  {
   "cell_type": "code",
   "execution_count": 94,
   "metadata": {},
   "outputs": [
    {
     "name": "stdout",
     "output_type": "stream",
     "text": [
      "Using device: cuda\n"
     ]
    }
   ],
   "source": [
    "# Set agnostic device: Automatically choose between CPU and GPU based on availability\n",
    "device = \"cuda\" if torch.cuda.is_available() else \"cpu\"\n",
    "print(f\"Using device: {device}\")"
   ]
  },
  {
   "cell_type": "code",
   "execution_count": 95,
   "metadata": {},
   "outputs": [],
   "source": [
    "weight = 0.8\n",
    "bias = 0.3\n",
    "start = 0\n",
    "end = 1\n",
    " \n",
    "X = torch.arange(start, end, step=0.05).unsqueeze(dim=1)\n",
    "y = weight * X + bias"
   ]
  },
  {
   "cell_type": "markdown",
   "metadata": {},
   "source": [
    "#### Splitting data into training and test sets"
   ]
  },
  {
   "cell_type": "code",
   "execution_count": 96,
   "metadata": {},
   "outputs": [],
   "source": [
    "train_split = int(0.8 * len(X))\n",
    "Xtrain, ytrain = X[:train_split], y[:train_split]\n",
    "Xtest, ytest = X[train_split:], y[train_split:]"
   ]
  },
  {
   "cell_type": "markdown",
   "metadata": {},
   "source": [
    "#### Plot the model data"
   ]
  },
  {
   "cell_type": "code",
   "execution_count": 97,
   "metadata": {},
   "outputs": [],
   "source": [
    "import matplotlib.pyplot as plt\n",
    "\n",
    "def dataplot(train_data=Xtrain, \n",
    "             train_labels=ytrain, \n",
    "             test_data=Xtest, \n",
    "             test_labels=ytest, \n",
    "             predictions=None):\n",
    "    # create a figure\n",
    "    fig, ax = plt.subplots()\n",
    "\n",
    "    ax.scatter(train_data, train_labels, color='blue', label='Training Data')\n",
    "    ax.scatter(test_data, test_labels, color='red', label='Test Data')\n",
    "    if predictions is not None:\n",
    "        ax.scatter(test_data, predictions, color='green', label='Prediction Result')\n",
    "    ax.legend()    \n",
    "    plt.show()"
   ]
  },
  {
   "cell_type": "code",
   "execution_count": 98,
   "metadata": {},
   "outputs": [
    {
     "data": {
      "image/png": "[encoded data removed]",
      "text/plain": [
       "<Figure size 640x480 with 1 Axes>"
      ]
     },
     "metadata": {},
     "output_type": "display_data"
    }
   ],
   "source": [
    "dataplot()"
   ]
  },
  {
   "cell_type": "markdown",
   "metadata": {},
   "source": [
    "### 2. Build a model"
   ]
  },
  {
   "cell_type": "code",
   "execution_count": 99,
   "metadata": {},
   "outputs": [],
   "source": [
    "from torch import nn\n",
    "\n",
    "# create linear regression model class\n",
    "class LinearRegressionModel(nn.Module):\n",
    "    def __init__(self):\n",
    "        super().__init__()\n",
    "        # # method 1: define linear regression variable ourselves \n",
    "        # self.weights = nn.Parameter(torch.randn(1,\n",
    "        #                                         requires_grad=True,\n",
    "        #                                         dtype=torch.float))\n",
    "        # self.bias = nn.Parameter(torch.randn(1, requires_grad=True,\n",
    "        #                                      dtype=torch.float))\n",
    "        # method 2: use pytorch built in linear layer\n",
    "        InputSize  = 1\n",
    "        OutputSize = 1\n",
    "        self.Linear_Layer = nn.Linear(InputSize, OutputSize)\n",
    "\n",
    "    # Forward method to define the computation in the model    \n",
    "    def forward(self, x:torch.Tensor)->torch.tensor:\n",
    "        # # method 1\n",
    "        # return self.weights * x + self.bias\n",
    "        # method 2\n",
    "        return self.Linear_Layer(x)"
   ]
  },
  {
   "cell_type": "markdown",
   "metadata": {},
   "source": [
    "#### Checking the contents of our model"
   ]
  },
  {
   "cell_type": "code",
   "execution_count": 100,
   "metadata": {},
   "outputs": [
    {
     "data": {
      "text/plain": [
       "[Parameter containing:\n",
       " tensor([[0.7645]], requires_grad=True),\n",
       " Parameter containing:\n",
       " tensor([0.8300], requires_grad=True)]"
      ]
     },
     "execution_count": 100,
     "metadata": {},
     "output_type": "execute_result"
    }
   ],
   "source": [
    "# set random seed\n",
    "torch.manual_seed(42)\n",
    "\n",
    "# create instance of our model\n",
    "model = LinearRegressionModel()\n",
    "list(model.parameters())"
   ]
  },
  {
   "cell_type": "code",
   "execution_count": 101,
   "metadata": {},
   "outputs": [
    {
     "data": {
      "text/plain": [
       "OrderedDict([('Linear_Layer.weight', tensor([[0.7645]])),\n",
       "             ('Linear_Layer.bias', tensor([0.8300]))])"
      ]
     },
     "execution_count": 101,
     "metadata": {},
     "output_type": "execute_result"
    }
   ],
   "source": [
    "# List named parameters\n",
    "model.state_dict()"
   ]
  },
  {
   "cell_type": "markdown",
   "metadata": {},
   "source": [
    "#### Making predictions using `torch.inference_mode()`"
   ]
  },
  {
   "cell_type": "code",
   "execution_count": 102,
   "metadata": {},
   "outputs": [
    {
     "data": {
      "text/plain": [
       "tensor([[1.4416],\n",
       "        [1.4799],\n",
       "        [1.5181],\n",
       "        [1.5563]])"
      ]
     },
     "execution_count": 102,
     "metadata": {},
     "output_type": "execute_result"
    }
   ],
   "source": [
    "# beaucse we have no intention of updating the model’s parameters through gradient descent jsut use inference mode\n",
    "with torch.inference_mode():\n",
    "    ypred = model(Xtest)\n",
    "ypred"
   ]
  },
  {
   "cell_type": "code",
   "execution_count": 103,
   "metadata": {},
   "outputs": [
    {
     "data": {
      "text/plain": [
       "tensor([[1.4416],\n",
       "        [1.4799],\n",
       "        [1.5181],\n",
       "        [1.5563]])"
      ]
     },
     "execution_count": 103,
     "metadata": {},
     "output_type": "execute_result"
    }
   ],
   "source": [
    "ypred"
   ]
  },
  {
   "cell_type": "code",
   "execution_count": 104,
   "metadata": {},
   "outputs": [
    {
     "data": {
      "image/png": "[encoded data removed]",
      "text/plain": [
       "<Figure size 640x480 with 1 Axes>"
      ]
     },
     "metadata": {},
     "output_type": "display_data"
    }
   ],
   "source": [
    "# plot the model prediction with random weight and bias (befor training)\n",
    "dataplot(predictions=ypred)"
   ]
  },
  {
   "cell_type": "markdown",
   "metadata": {},
   "source": [
    "### 3. Train Model\n",
    "The whole prcedure of trainig is to quantify how well a model is performing its task by comparing predicted outputs to ground truth labels.\n",
    "\n",
    "We need things:\n",
    "+ **Loss function**\n",
    "+ **Optimizer**  \n",
    "  "
   ]
  },
  {
   "cell_type": "markdown",
   "metadata": {},
   "source": [
    "#### Put model & data to the GPU (if it's available)"
   ]
  },
  {
   "cell_type": "code",
   "execution_count": 105,
   "metadata": {},
   "outputs": [
    {
     "data": {
      "text/plain": [
       "device(type='cpu')"
      ]
     },
     "execution_count": 105,
     "metadata": {},
     "output_type": "execute_result"
    }
   ],
   "source": [
    "# next grabbing the first parameter of model check what the device is\n",
    "next(model.parameters()).device"
   ]
  },
  {
   "cell_type": "markdown",
   "metadata": {},
   "source": [
    ">**Note:** Many data science libraries such as pandas, matplotlib and NumPy aren't capable of using data that is stored on GPU. So you might run into some issues when trying to use a function from one of these libraries with tensor data not stored on the CPU. To fix this, you can call .cpu() on your target tensor to return a copy of your target tensor on the CPU."
   ]
  },
  {
   "cell_type": "code",
   "execution_count": 106,
   "metadata": {},
   "outputs": [],
   "source": [
    "# the device variable was set above to be \"cuda\" if available or \"cpu\" if not\n",
    "# all data and model should be in the same device without this, error will happen\n",
    "\n",
    "# model\n",
    "model.to(device) \n",
    "\n",
    "# for ploting data we should have the original variables in cpu\n",
    "X_train = Xtrain.to(device)\n",
    "X_test = Xtest.to(device)\n",
    "y_train = ytrain.to(device)\n",
    "y_test = ytest.to(device)"
   ]
  },
  {
   "cell_type": "code",
   "execution_count": 107,
   "metadata": {},
   "outputs": [],
   "source": [
    "# set up loss function\n",
    "loss_fn = nn.L1Loss()\n",
    "\n",
    "# setup optimizer (stochastic gradient descent)\n",
    "optimizer = torch.optim.SGD(params=model.parameters(),\n",
    "                            lr=0.01)"
   ]
  },
  {
   "cell_type": "markdown",
   "metadata": {},
   "source": [
    "#### Bulding a training loop (and a testing loop)"
   ]
  },
  {
   "cell_type": "code",
   "execution_count": 108,
   "metadata": {},
   "outputs": [
    {
     "name": "stdout",
     "output_type": "stream",
     "text": [
      "Epoch: 0 | MAE Train Loss: 0.5167098641395569 | MAE Test Loss: 0.485697865486145 \n",
      "Epoch: 10 | MAE Train Loss: 0.40264734625816345 | MAE Test Loss: 0.3528851866722107 \n",
      "Epoch: 20 | MAE Train Loss: 0.28858482837677 | MAE Test Loss: 0.22007259726524353 \n",
      "Epoch: 30 | MAE Train Loss: 0.17452234029769897 | MAE Test Loss: 0.08725994825363159 \n",
      "Epoch: 40 | MAE Train Loss: 0.06159591302275658 | MAE Test Loss: 0.04348234832286835 \n",
      "Epoch: 50 | MAE Train Loss: 0.03879738599061966 | MAE Test Loss: 0.08042746782302856 \n",
      "Epoch: 60 | MAE Train Loss: 0.034814126789569855 | MAE Test Loss: 0.07980236411094666 \n",
      "Epoch: 70 | MAE Train Loss: 0.03124537691473961 | MAE Test Loss: 0.0741148591041565 \n",
      "Epoch: 80 | MAE Train Loss: 0.02783914841711521 | MAE Test Loss: 0.06505241990089417 \n",
      "Epoch: 90 | MAE Train Loss: 0.02435164898633957 | MAE Test Loss: 0.05767744779586792 \n"
     ]
    }
   ],
   "source": [
    "# An epoch is one loop through the data\n",
    "epochs = 100\n",
    "train_loss_values = []\n",
    "test_loss_values = []\n",
    "epoch_count = []\n",
    "\n",
    "# 0. Loop through the data\n",
    "for epoch in range(epochs):\n",
    "    # Set the model to training mode\n",
    "    model.train() # train mode in pytorch sets all parameters that require gradients\n",
    "\n",
    "    # 1. Forward the train data in the model\n",
    "    y_pred = model(X_train)\n",
    "\n",
    "    # 2. Calculate the loss\n",
    "    loss = loss_fn(y_pred, y_train)\n",
    "\n",
    "    # 3. Optimizer zero grad\n",
    "    optimizer.zero_grad()\n",
    "\n",
    "    # 4. Perform backpropagation on the loss\n",
    "    loss.backward()\n",
    "\n",
    "    # 5. Step the optimizer \n",
    "    optimizer.step()\n",
    "\n",
    "    model.eval() # turns of different settings in the model not needed for evaluation\n",
    "\n",
    "    with torch.inference_mode():\n",
    "        # 1. Forward pass on test data\n",
    "        test_pred = model(X_test)\n",
    "\n",
    "        # 2. Caculate loss on test data\n",
    "        test_loss = loss_fn(test_pred, y_test.type(torch.float)) # predictions come in torch.float datatype, so comparisons need to be done with tensors of the same type\n",
    "\n",
    "        # Print out what's happening\n",
    "        if epoch % 10 == 0:\n",
    "            epoch_count.append(epoch)\n",
    "            train_loss_values.append(loss.cpu().detach().numpy())\n",
    "            test_loss_values.append(test_loss.cpu().detach().numpy())\n",
    "            print(f\"Epoch: {epoch} | MAE Train Loss: {loss} | MAE Test Loss: {test_loss} \")"
   ]
  },
  {
   "cell_type": "code",
   "execution_count": 109,
   "metadata": {},
   "outputs": [
    {
     "name": "stdout",
     "output_type": "stream",
     "text": [
      "Test Loss: 0.050364986062049866\n"
     ]
    }
   ],
   "source": [
    "# Prediction after some training\n",
    "with torch.inference_mode():\n",
    "    y_pred = model(X_test)\n",
    "    # Calculate test loss\n",
    "    test_loss = loss_fn(y_pred, y_test)\n",
    "    print(f\"Test Loss: {test_loss}\")"
   ]
  },
  {
   "cell_type": "code",
   "execution_count": 110,
   "metadata": {},
   "outputs": [
    {
     "data": {
      "image/png": "[encoded data removed]",
      "text/plain": [
       "<Figure size 640x480 with 1 Axes>"
      ]
     },
     "metadata": {},
     "output_type": "display_data"
    }
   ],
   "source": [
    "dataplot(predictions=y_pred.cpu().numpy())"
   ]
  },
  {
   "cell_type": "code",
   "execution_count": 111,
   "metadata": {},
   "outputs": [
    {
     "data": {
      "image/png": "[encoded data removed]",
      "text/plain": [
       "<Figure size 640x480 with 1 Axes>"
      ]
     },
     "metadata": {},
     "output_type": "display_data"
    }
   ],
   "source": [
    "# Plot the loss curves\n",
    "plt.plot(epoch_count, train_loss_values, label=\"Train loss\")\n",
    "plt.plot(epoch_count, test_loss_values, label=\"Test loss\")\n",
    "plt.title(\"Training and test loss curves\")\n",
    "plt.ylabel(\"Loss\")\n",
    "plt.xlabel(\"Epochs\")\n",
    "plt.legend();"
   ]
  },
  {
   "cell_type": "markdown",
   "metadata": {},
   "source": [
    "### 4. Saving a model\n",
    "There are three method for saving and loading models in PyTorch:\n",
    "\n",
    "1. `torch.save()` save a PyTorch object in Python's pickle format\n",
    "2. `torch.load()`\n",
    "3. `torch.nn.Module.load_state_dict()`\n",
    "\n",
    " Pros and Cons:\n",
    " - State_dict:\n",
    "   - Pros: Lightweight (only learnable parameters), flexible (can change model architecture), compatible across PyTorch versions.\n",
    "   - Cons: Requires rebuilding the model architecture when loading.\n",
    " - Entire Model:\n",
    "   - Pros: Includes architecture, methods, and parameters, easy to load.\n",
    "   - Cons: Larger file size, less flexible (architecture tied to saved model)."
   ]
  },
  {
   "cell_type": "markdown",
   "metadata": {},
   "source": [
    "##### Save & Load using `state_dict()`"
   ]
  },
  {
   "cell_type": "code",
   "execution_count": 112,
   "metadata": {},
   "outputs": [
    {
     "name": "stdout",
     "output_type": "stream",
     "text": [
      "Saving model to Models/01_pytorch_workflow_0.pth\n"
     ]
    }
   ],
   "source": [
    "# Saving our PyTorch model\n",
    "from pathlib import Path\n",
    "\n",
    "# 1. Create models directory\n",
    "MODEL0_PATH = Path(\"Models\")\n",
    "MODEL0_PATH.mkdir(parents=True, exist_ok=True)\n",
    "\n",
    "# 2. Create model save path\n",
    "MODEL0_NAME = \"01_pytorch_workflow_0.pth\"\n",
    "MODEL0_SAVE_PATH = MODEL0_PATH / MODEL0_NAME\n",
    "\n",
    "# 3. Save the model state dict\n",
    "print(f\"Saving model to {MODEL0_SAVE_PATH}\")\n",
    "torch.save(obj=model.state_dict(),\n",
    "           f=MODEL0_SAVE_PATH)"
   ]
  },
  {
   "cell_type": "code",
   "execution_count": 113,
   "metadata": {},
   "outputs": [
    {
     "name": "stderr",
     "output_type": "stream",
     "text": [
      "/tmp/ipykernel_104438/3440810471.py:5: FutureWarning: You are using `torch.load` with `weights_only=False` (the current default value), which uses the default pickle module implicitly. It is possible to construct malicious pickle data which will execute arbitrary code during unpickling (See https://github.com/pytorch/pytorch/blob/main/SECURITY.md#untrusted-models for more details). In a future release, the default value for `weights_only` will be flipped to `True`. This limits the functions that could be executed during unpickling. Arbitrary objects will no longer be allowed to be loaded via this mode unless they are explicitly allowlisted by the user via `torch.serialization.add_safe_globals`. We recommend you start setting `weights_only=True` for any use case where you don't have full control of the loaded file. Please open an issue on GitHub for any issues related to this experimental feature.\n",
      "  loaded_state_dict = torch.load(MODEL0_SAVE_PATH)\n"
     ]
    },
    {
     "data": {
      "text/plain": [
       "<All keys matched successfully>"
      ]
     },
     "execution_count": 113,
     "metadata": {},
     "output_type": "execute_result"
    }
   ],
   "source": [
    "# To load state dict we have to create new instance of our model class\n",
    "loaded_model = LinearRegressionModel()\n",
    "\n",
    "# Load the state_dict back\n",
    "loaded_state_dict = torch.load(MODEL0_SAVE_PATH)\n",
    "loaded_model.load_state_dict(loaded_state_dict)"
   ]
  },
  {
   "cell_type": "markdown",
   "metadata": {},
   "source": [
    "##### Save & Load **entire model**"
   ]
  },
  {
   "cell_type": "code",
   "execution_count": 114,
   "metadata": {},
   "outputs": [
    {
     "name": "stdout",
     "output_type": "stream",
     "text": [
      "Saving model to Models/01_pytorch_workflow_1.pth\n"
     ]
    }
   ],
   "source": [
    "# Saving entire of our PyTorch model\n",
    "from pathlib import Path\n",
    "\n",
    "# 1. Create models directory\n",
    "MODEL1_PATH = Path(\"Models\")\n",
    "MODEL1_PATH.mkdir(parents=True, exist_ok=True)\n",
    "\n",
    "# 2. Create model save path\n",
    "MODEL1_NAME = \"01_pytorch_workflow_1.pth\"\n",
    "MODEL1_SAVE_PATH = MODEL1_PATH / MODEL1_NAME\n",
    "\n",
    "# 3. Save the model state dict\n",
    "print(f\"Saving model to {MODEL1_SAVE_PATH}\")\n",
    "torch.save(obj=model,\n",
    "           f=MODEL1_SAVE_PATH)"
   ]
  },
  {
   "cell_type": "code",
   "execution_count": 115,
   "metadata": {},
   "outputs": [
    {
     "name": "stderr",
     "output_type": "stream",
     "text": [
      "/tmp/ipykernel_104438/957944023.py:2: FutureWarning: You are using `torch.load` with `weights_only=False` (the current default value), which uses the default pickle module implicitly. It is possible to construct malicious pickle data which will execute arbitrary code during unpickling (See https://github.com/pytorch/pytorch/blob/main/SECURITY.md#untrusted-models for more details). In a future release, the default value for `weights_only` will be flipped to `True`. This limits the functions that could be executed during unpickling. Arbitrary objects will no longer be allowed to be loaded via this mode unless they are explicitly allowlisted by the user via `torch.serialization.add_safe_globals`. We recommend you start setting `weights_only=True` for any use case where you don't have full control of the loaded file. Please open an issue on GitHub for any issues related to this experimental feature.\n",
      "  model_loaded_entire = torch.load(MODEL1_SAVE_PATH)\n"
     ]
    }
   ],
   "source": [
    "# Load the entire model back\n",
    "model_loaded_entire = torch.load(MODEL1_SAVE_PATH)"
   ]
  }
 ],
 "metadata": {
  "kernelspec": {
   "display_name": "mlenv",
   "language": "python",
   "name": "python3"
  },
  "language_info": {
   "codemirror_mode": {
    "name": "ipython",
    "version": 3
   },
   "file_extension": ".py",
   "mimetype": "text/x-python",
   "name": "python",
   "nbconvert_exporter": "python",
   "pygments_lexer": "ipython3",
   "version": "3.12.3"
  }
 },
 "nbformat": 4,
 "nbformat_minor": 2
}
